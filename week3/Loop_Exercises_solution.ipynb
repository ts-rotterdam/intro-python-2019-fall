{
  "nbformat": 4,
  "nbformat_minor": 0,
  "metadata": {
    "kernelspec": {
      "display_name": "Python 3",
      "language": "python",
      "name": "python3"
    },
    "language_info": {
      "codemirror_mode": {
        "name": "ipython",
        "version": 3
      },
      "file_extension": ".py",
      "mimetype": "text/x-python",
      "name": "python",
      "nbconvert_exporter": "python",
      "pygments_lexer": "ipython3",
      "version": "3.7.1"
    },
    "colab": {
      "name": "Loop_Exercises(answers).ipynb",
      "provenance": [],
      "collapsed_sections": []
    }
  },
  "cells": [
    {
      "cell_type": "markdown",
      "metadata": {
        "id": "K-ZNuuv6fmhU",
        "colab_type": "text"
      },
      "source": [
        "# You can make functions or just use loops to solve the exercises"
      ]
    },
    {
      "cell_type": "markdown",
      "metadata": {
        "id": "q6V3X4Y-fmhZ",
        "colab_type": "text"
      },
      "source": [
        "# Q1: Leap year\n",
        "    - check if the input year is a leap year or not\n",
        "    - leap year is exactly divisible by 4 except for century years (years ending with 00)\n",
        "    - Century year is a leap year if and only if it's perfectly divisible by 400"
      ]
    },
    {
      "cell_type": "code",
      "metadata": {
        "id": "XpB0u4GWfmhd",
        "colab_type": "code",
        "outputId": "a60f673c-1634-413c-e89c-0b9f895229b3",
        "colab": {}
      },
      "source": [
        "year = int(input(\"type the year: \"))\n",
        "\n",
        "if ((year % 4 == 0 and year % 100 != 0) or year % 400 == 0):\n",
        "    print(year, \"is a leap year\")\n",
        "else :\n",
        "    print(year, \"is not a leap year\")\n",
        "\n",
        "#1994, 2000, 2004, 1904"
      ],
      "execution_count": 0,
      "outputs": [
        {
          "output_type": "stream",
          "text": [
            "type the year:  1994\n"
          ],
          "name": "stdin"
        },
        {
          "output_type": "stream",
          "text": [
            "1994 is not a leap year\n"
          ],
          "name": "stdout"
        }
      ]
    },
    {
      "cell_type": "markdown",
      "metadata": {
        "id": "Wxd43TD4fmho",
        "colab_type": "text"
      },
      "source": [
        "# Q2: Get the center letter(s) of a string\n",
        "    - when input the string, return the center letter\n",
        "        ex: if string 'weekday', print 'k'\n",
        "    - if the number of string is even, print two centered letters\n",
        "        ex: if string 'function', print 'ct'"
      ]
    },
    {
      "cell_type": "code",
      "metadata": {
        "id": "dqQv0Kk-fmhr",
        "colab_type": "code",
        "outputId": "f1f68bcb-cbbd-4a1e-9880-24d71770c8cb",
        "colab": {
          "base_uri": "https://localhost:8080/",
          "height": 52
        }
      },
      "source": [
        "str = input(\"type the string: \")\n",
        "\n",
        "length = len(str)\n",
        "\n",
        "if length%2 == 1 : # odd\n",
        "    ch1 = str[length//2]  \n",
        "    print(\"my center alphabet is \", ch1)\n",
        "    \n",
        "else:             # even\n",
        "    ch1 = str[length//2-1]\n",
        "    ch2 = str[length//2]\n",
        "    print(f\"my center alphabet is {ch1}{ch2}\")"
      ],
      "execution_count": 0,
      "outputs": [
        {
          "output_type": "stream",
          "text": [
            "type the string: function\n",
            "my center alphabet is ct\n"
          ],
          "name": "stdout"
        }
      ]
    },
    {
      "cell_type": "markdown",
      "metadata": {
        "id": "fIgYUjAPfmh3",
        "colab_type": "text"
      },
      "source": [
        "# Q3: Calculate the wages\n",
        "    - ask the working hours per day & wages per hour\n",
        "    - assume 5 work days in a week\n",
        "    - assume if more than 40 hrs per week, need to pay 1.5 of the wage\n",
        "    - calculate the total wages per week"
      ]
    },
    {
      "cell_type": "code",
      "metadata": {
        "id": "BpcSeLTJfmh6",
        "colab_type": "code",
        "outputId": "03eecc18-d11d-4c5d-a814-542f89a61460",
        "colab": {
          "base_uri": "https://localhost:8080/",
          "height": 71
        }
      },
      "source": [
        "workinghr = int(input('working hours: '))\n",
        "paymenthr = int(input('wages per hour: '))\n",
        "\n",
        "workdays_per_week = 5\n",
        "wage_per_week = paymenthr * workinghr * workdays_per_week\n",
        "\n",
        "if workinghr*5 >= 40:\n",
        "    print('total wages per week: ', wage_per_week * 1.5)\n",
        "else:\n",
        "    print('total wages per week: ', wage_per_week)"
      ],
      "execution_count": 1,
      "outputs": [
        {
          "output_type": "stream",
          "text": [
            "working hours: 8\n",
            "wages per hour: 20\n",
            "total wages per week:  1200.0\n"
          ],
          "name": "stdout"
        }
      ]
    },
    {
      "cell_type": "markdown",
      "metadata": {
        "id": "bgs5coXNfmiB",
        "colab_type": "text"
      },
      "source": [
        "# Q4: Factorial\n",
        "    - factorial using the loop\n",
        "    - try both for loop and while loop\n",
        "    - n! = 1*2*3*...(n-1)*n\n",
        "    - hint: use range() function"
      ]
    },
    {
      "cell_type": "code",
      "metadata": {
        "id": "syVSvH6efmiE",
        "colab_type": "code",
        "outputId": "37eff5ec-d17d-4eba-de71-4fb044940ebb",
        "colab": {
          "base_uri": "https://localhost:8080/",
          "height": 53
        }
      },
      "source": [
        "num = int(input(\"number:\"))\n",
        "\n",
        "result = 1\n",
        "for a in range(1, num+1):\n",
        "    result = result * a\n",
        "\n",
        "print(result)"
      ],
      "execution_count": 2,
      "outputs": [
        {
          "output_type": "stream",
          "text": [
            "number:10\n",
            "3628800\n"
          ],
          "name": "stdout"
        }
      ]
    },
    {
      "cell_type": "code",
      "metadata": {
        "id": "qRfMGodvfmiM",
        "colab_type": "code",
        "outputId": "6fcfdd95-500e-4abf-e5fa-acf66b3caca6",
        "colab": {
          "base_uri": "https://localhost:8080/",
          "height": 35
        }
      },
      "source": [
        "# Answer using recursion\n",
        "# https://en.wikipedia.org/wiki/Recursion\n",
        "\n",
        "def factorial(n): \n",
        "    if n < 1:\n",
        "        return 1\n",
        "    else:\n",
        "        result = n* factorial(n-1)\n",
        "        # uncomment the line below to see the output at each step\n",
        "        # print(result)\n",
        "        return result\n",
        "\n",
        "factorial(5)"
      ],
      "execution_count": 3,
      "outputs": [
        {
          "output_type": "execute_result",
          "data": {
            "text/plain": [
              "120"
            ]
          },
          "metadata": {
            "tags": []
          },
          "execution_count": 3
        }
      ]
    },
    {
      "cell_type": "code",
      "metadata": {
        "id": "IBiPkTypfmiR",
        "colab_type": "code",
        "outputId": "cea5614c-1d78-4343-b040-9ff835fad5e4",
        "colab": {
          "base_uri": "https://localhost:8080/",
          "height": 53
        }
      },
      "source": [
        "# for\n",
        "fact = 1\n",
        "n = int(input(\"number: \"))\n",
        "\n",
        "for i in range(1, n+1):\n",
        "    fact = fact * i\n",
        "\n",
        "print(f\"{n}! is {fact}\")"
      ],
      "execution_count": 5,
      "outputs": [
        {
          "output_type": "stream",
          "text": [
            "number: 5\n",
            "5! is 120\n"
          ],
          "name": "stdout"
        }
      ]
    },
    {
      "cell_type": "code",
      "metadata": {
        "id": "8bsI2Z-FfmiZ",
        "colab_type": "code",
        "outputId": "6c8fd7b4-1035-4676-dacf-c7f391110052",
        "colab": {
          "base_uri": "https://localhost:8080/",
          "height": 53
        }
      },
      "source": [
        "# while\n",
        "num = int(input(\"number: \"))\n",
        "n = num\n",
        "factorial = 1\n",
        "while n > 0:\n",
        "    factorial = factorial * n\n",
        "    n = n - 1\n",
        "\n",
        "print(f\"{num}! is {fact}\")"
      ],
      "execution_count": 8,
      "outputs": [
        {
          "output_type": "stream",
          "text": [
            "number: 5\n",
            "5! is 120\n"
          ],
          "name": "stdout"
        }
      ]
    },
    {
      "cell_type": "markdown",
      "metadata": {
        "id": "WtGz2ywRfmih",
        "colab_type": "text"
      },
      "source": [
        "# Q5: Bank account number\n",
        "    - when you receive the bank account number for example '312-02-1234567' from a user, remove '-' then return the account number"
      ]
    },
    {
      "cell_type": "code",
      "metadata": {
        "id": "bzvumAVPfmii",
        "colab_type": "code",
        "outputId": "3f0eca65-646d-4a91-acfc-53901ff48ff9",
        "colab": {
          "base_uri": "https://localhost:8080/",
          "height": 52
        }
      },
      "source": [
        "raw = \"312-02-1234567\"\n",
        "processed = [c for c in raw if c != \"-\"]\n",
        "print(processed)\n",
        "processed2 = \"\".join(processed)\n",
        "print(processed2)\n"
      ],
      "execution_count": 0,
      "outputs": [
        {
          "output_type": "stream",
          "text": [
            "['3', '1', '2', '0', '2', '1', '2', '3', '4', '5', '6', '7']\n",
            "312021234567\n"
          ],
          "name": "stdout"
        }
      ]
    },
    {
      "cell_type": "code",
      "metadata": {
        "id": "nZze0SDlfmip",
        "colab_type": "code",
        "outputId": "ed32ba05-abfe-4d03-8aa2-121f6eac67fc",
        "colab": {}
      },
      "source": [
        "raw = \"312-02-1234567\"\n",
        "processed = \"\"\n",
        "\n",
        "for c in raw:\n",
        "    if c != \"-\":\n",
        "        processed = processed + c\n",
        "        \n",
        "print(processed)"
      ],
      "execution_count": 0,
      "outputs": [
        {
          "output_type": "stream",
          "text": [
            "312021234567\n"
          ],
          "name": "stdout"
        }
      ]
    },
    {
      "cell_type": "markdown",
      "metadata": {
        "id": "TZbIaoFqfmi2",
        "colab_type": "text"
      },
      "source": [
        "# Q6 - Alphabet, number, space\n",
        "    - when you have an input of string, count the number of alphabet, number, space and print"
      ]
    },
    {
      "cell_type": "code",
      "metadata": {
        "id": "3OEjVnhhfmi3",
        "colab_type": "code",
        "outputId": "dbbf4108-3d5b-4b08-cdd6-c5a0017c9397",
        "colab": {
          "base_uri": "https://localhost:8080/",
          "height": 53
        }
      },
      "source": [
        "data = input('type any string that contains alphabet, number and space: ')\n",
        "\n",
        "letters_count = 0\n",
        "numbers_count = 0\n",
        "spaces_count = 0\n",
        "\n",
        "for letter in data:\n",
        "    if letter.isalpha():\n",
        "        letters_count = letters_count + 1\n",
        "    elif letter.isdigit():\n",
        "        numbers_count = numbers_count + 1\n",
        "    elif letter == \" \":\n",
        "        spaces_count = spaces_count + 1\n",
        "    else:\n",
        "        pass\n",
        "\n",
        "print(f\"There are {letters_count} letters, {numbers_count} digits and {spaces_count} spaces in the string '{data}'\")"
      ],
      "execution_count": 12,
      "outputs": [
        {
          "output_type": "stream",
          "text": [
            "type any string that contains alphabet, number and space: abc XYZ 123\n",
            "There are 6 letters, 3 digits and 2 spaces in the string 'abc XYZ 123'\n"
          ],
          "name": "stdout"
        }
      ]
    }
  ]
}