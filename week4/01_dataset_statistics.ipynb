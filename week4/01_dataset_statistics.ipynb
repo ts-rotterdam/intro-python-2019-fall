{
 "cells": [
  {
   "cell_type": "markdown",
   "metadata": {},
   "source": [
    "# Building a simple search engine\n",
    "## Part 1: Dataset statistics"
   ]
  },
  {
   "cell_type": "markdown",
   "metadata": {},
   "source": [
    "Below we will be building a very simple search engine in Python. This is representative of a data science project in that we collect and process data for our purposes. The idea of this exercise is to learn to translate requirements written in English into Python code. Only the concepts and functions from previous sessions and the notebook before this one are needed for these exercises. If there is any questions, please ask questions during sessions or on Slack!\n",
    "\n",
    "In this exercise we will introduce the dataset and have a look into it to have a rough idea of what it contains."
   ]
  },
  {
   "cell_type": "markdown",
   "metadata": {},
   "source": [
    "## Data collection and preprocessing\n",
    "\n",
    "A search engine needs data that can be searched. Data is typically downloaded from the Internet and preprocessed in a list format. For this step, I have collected and processed a list of computer science papers from the [Computing Research Repository](https://arxiv.org/corr) of [arXiv](https://arxiv.org), an open access database of scientific publications. Within the repository we took papers that are in at least one of the following categories: [Artificial Intelligence](https://arxiv.org/list/cs.AI/recent), [Computer Vision and Pattern Recognition](https://arxiv.org/list/cs.CV/recent), and [Machine Learning](https://arxiv.org/list/cs.LG/recent)."
   ]
  },
  {
   "cell_type": "markdown",
   "metadata": {},
   "source": [
    "### Loading the dataset\n",
    "\n",
    "The dataset has 2 files, both stored in the [pickle](https://docs.python.org/3.8/library/pickle.html) format, and then compressed with the [LZMA](https://en.wikipedia.org/wiki/Lempel%E2%80%93Ziv%E2%80%93Markov_chain_algorithm) algorithm. The `arxiv_cs_summaries.pickle.xz` file is a list of tuples consisting of the title (`str`), list of authors (`list` of `str`), year of publishing (`int`) and a link to the paper (`str`), and the `arxiv_cs_descriptions.pickle.xz` file contains a list of article descriptions as a string.\n",
    "\n",
    "For this exercise we are only using the summaries file. To use the dataset, we will decompress the file, load it into Python, and then convert the tuples into named tuples."
   ]
  },
  {
   "cell_type": "code",
   "execution_count": 1,
   "metadata": {},
   "outputs": [],
   "source": [
    "import pickle, lzma\n",
    "from collections import namedtuple\n",
    "\n",
    "summaries_file = 'data/arxiv_cs_summaries.pickle.xz'\n",
    "summaries = pickle.load(lzma.LZMAFile(summaries_file, 'rb'))\n",
    "\n",
    "paper = namedtuple(\"paper\", [\"title\", \"authors\", \"year\", \"link\"])\n",
    "papers = [paper(*s) for s in summaries]"
   ]
  },
  {
   "cell_type": "markdown",
   "metadata": {},
   "source": [
    "## A quick look into the data\n",
    "\n",
    "Now that we know the data is structured as a list of tuples, we can try some things to warm up, for example how many items are there and what do they look like."
   ]
  },
  {
   "cell_type": "code",
   "execution_count": 2,
   "metadata": {},
   "outputs": [
    {
     "name": "stdout",
     "output_type": "stream",
     "text": [
      "There are 82033 papers in this dataset\n"
     ]
    }
   ],
   "source": [
    "print(f\"There are {len(papers)} papers in this dataset\")"
   ]
  },
  {
   "cell_type": "code",
   "execution_count": 3,
   "metadata": {},
   "outputs": [
    {
     "name": "stdout",
     "output_type": "stream",
     "text": [
      "Intelligent location of simultaneously active acoustic emission sources:  Part I\n"
     ]
    }
   ],
   "source": [
    "print(papers[0].title)"
   ]
  },
  {
   "cell_type": "markdown",
   "metadata": {},
   "source": [
    "## Plotting the data\n",
    "\n",
    "We can have a better look at some of the data by plotting them. For that we import `matplotlib` and set it up:"
   ]
  },
  {
   "cell_type": "code",
   "execution_count": 4,
   "metadata": {},
   "outputs": [],
   "source": [
    "import matplotlib.pyplot as plt\n",
    "\n",
    "# Show plots instead of plot objects on the notebook\n",
    "%matplotlib inline\n",
    "# Set plots' sizes\n",
    "plt.rcParams['axes.titlesize'] = 20\n",
    "plt.rcParams['axes.labelsize'] = 15\n",
    "plt.rcParams['xtick.labelsize'] = 12.5\n",
    "plt.rcParams['ytick.labelsize'] = 12.5"
   ]
  },
  {
   "cell_type": "markdown",
   "metadata": {},
   "source": [
    "## Papers per year\n",
    "\n",
    "We can often have a good look by looking into the relationships between different variables. Let's begin with the number of papers published every year."
   ]
  },
  {
   "cell_type": "code",
   "execution_count": 5,
   "metadata": {},
   "outputs": [
    {
     "name": "stdout",
     "output_type": "stream",
     "text": [
      "Number of papers published on arXiv per year in the past decade:\n",
      "2010: 946\n",
      "2011: 1396\n",
      "2012: 2578\n",
      "2013: 3413\n",
      "2014: 3385\n",
      "2015: 4586\n",
      "2016: 7266\n",
      "2017: 10809\n",
      "2018: 18301\n",
      "2019: 26616\n"
     ]
    }
   ],
   "source": [
    "from collections import Counter\n",
    "\n",
    "years = [p.year for p in papers]\n",
    "papers_per_year = sorted(Counter(years).items())\n",
    "\n",
    "print(\"Number of papers published on arXiv per year in the past decade:\")\n",
    "for year, count in papers_per_year[-10:]:\n",
    "    print(f\"{year}: {count}\")"
   ]
  },
  {
   "cell_type": "code",
   "execution_count": 6,
   "metadata": {},
   "outputs": [
    {
     "data": {
      "image/png": "[encoded data removed]",
      "text/plain": [
       "<Figure size 432x288 with 1 Axes>"
      ]
     },
     "metadata": {
      "needs_background": "light"
     },
     "output_type": "display_data"
    }
   ],
   "source": [
    "x, y = zip(*papers_per_year)\n",
    "\n",
    "plt.plot(x, y, linewidth=3)\n",
    "plt.title(\"Papers per year\")\n",
    "plt.grid(which='major')\n",
    "plt.xlim(1989, 2020)\n",
    "plt.ylim(bottom=0)\n",
    "plt.show()"
   ]
  },
  {
   "cell_type": "markdown",
   "metadata": {},
   "source": [
    "## Papers per author\n",
    "\n",
    "Now that we have the papers per year plotted, let's plot the number of papers written per author.\n",
    "\n",
    "**Exercise:** Print the top 10 authors with the most paper written. Note that there can be more than one author for a paper.\n",
    "\n",
    "*Hint:* List comprehension, `Counter` and `sorted()` are used here."
   ]
  },
  {
   "cell_type": "code",
   "execution_count": null,
   "metadata": {},
   "outputs": [],
   "source": [
    "# A list of all authors\n",
    "authors = []\n",
    "# The counter for each author\n",
    "papers_per_author = \n",
    "\n",
    "top_10_authors = \n",
    "\n",
    "print(\"Top 10 authors with the most papers:\")\n",
    "for name, count in top_10_authors:\n",
    "    print(f\"{name}: {count}\")"
   ]
  },
  {
   "cell_type": "markdown",
   "metadata": {},
   "source": [
    "**Exercise:** Create a [histogram](https://matplotlib.org/3.1.1/api/_as_gen/matplotlib.pyplot.hist.html) of the number of papers written for the authors. Use the log scale for the y-axis."
   ]
  },
  {
   "cell_type": "code",
   "execution_count": null,
   "metadata": {},
   "outputs": [],
   "source": []
  },
  {
   "cell_type": "markdown",
   "metadata": {},
   "source": [
    "## Most frequent words\n",
    "\n",
    "**Exercise**: First, create a list of words from the paper titles by splitting the title by space and then convert each word into lower-case then, count the most frequent words in the titles (using `Counter`) and save it in a variable named `word_counts`."
   ]
  },
  {
   "cell_type": "code",
   "execution_count": null,
   "metadata": {},
   "outputs": [],
   "source": [
    "# The list of words\n",
    "words = []\n",
    "# The counts\n",
    "word_counts = \n",
    "\n",
    "print('Number of distinct words in the paper titles:')\n",
    "print(len(word_counts))"
   ]
  },
  {
   "cell_type": "markdown",
   "metadata": {},
   "source": [
    "**Exercise**: Create a function `top(n)` that takes an input `n` and returns a list of top `n` most frequent words in the titles."
   ]
  },
  {
   "cell_type": "code",
   "execution_count": null,
   "metadata": {},
   "outputs": [],
   "source": [
    "def top(n):\n",
    "    return n"
   ]
  },
  {
   "cell_type": "markdown",
   "metadata": {},
   "source": [
    "**Exercise:** Calculate and plot (e.g. using [plt.plot](http://matplotlib.org/api/pyplot_api.html#matplotlib.pyplot.plot)) a graph of the frequency of the 100 most frequent words in titles of papers, from most frequent to least frequent. (You can make use of `top()` created above.)"
   ]
  },
  {
   "cell_type": "code",
   "execution_count": null,
   "metadata": {},
   "outputs": [],
   "source": [
    "x = range(0,100)\n",
    "# The y-axis is the frequencies of the first 100 words\n",
    "y = []\n",
    "\n",
    "# Make the plot below"
   ]
  },
  {
   "cell_type": "markdown",
   "metadata": {},
   "source": [
    "**Exercise:** Print out the top 50 most often occurring words in the paper's titles."
   ]
  },
  {
   "cell_type": "code",
   "execution_count": null,
   "metadata": {},
   "outputs": [],
   "source": []
  },
  {
   "cell_type": "markdown",
   "metadata": {},
   "source": [
    "**Question:** Keeping in mind that we are dealing with a biased (preselected) dataset about machine learning/artificial intelligence papers, what do you notice when looking at the top 10 most frequent words?"
   ]
  },
  {
   "cell_type": "markdown",
   "metadata": {},
   "source": [
    "**Answer:** [Write your answer here]"
   ]
  }
 ],
 "metadata": {
  "kernelspec": {
   "display_name": "Python 3",
   "language": "python",
   "name": "python3"
  },
  "language_info": {
   "codemirror_mode": {
    "name": "ipython",
    "version": 3
   },
   "file_extension": ".py",
   "mimetype": "text/x-python",
   "name": "python",
   "nbconvert_exporter": "python",
   "pygments_lexer": "ipython3",
   "version": "3.7.4"
  }
 },
 "nbformat": 4,
 "nbformat_minor": 2
}
