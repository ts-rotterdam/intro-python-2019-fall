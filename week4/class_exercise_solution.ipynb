{
 "cells": [
  {
   "cell_type": "markdown",
   "metadata": {},
   "source": [
    "# Solutions to the Project Euler Questions shown in class"
   ]
  },
  {
   "cell_type": "markdown",
   "metadata": {},
   "source": [
    "## Problem 13: Large sum\n",
    "\n",
    "Work out the first ten digits of the sum of the one-hundred 50-digit numbers stored in [numbers.txt](./numbers.txt)."
   ]
  },
  {
   "cell_type": "code",
   "execution_count": 10,
   "metadata": {},
   "outputs": [
    {
     "name": "stdout",
     "output_type": "stream",
     "text": [
      "5537376230\n"
     ]
    }
   ],
   "source": [
    "with open(\"numbers.txt\", \"r\") as f:\n",
    "    total = 0\n",
    "    for banana in f:\n",
    "        total = total + int(banana)\n",
    "    # If we convert the sum into a string, then we can take the first 10 characters with a slice\n",
    "    print(str(total)[:10])"
   ]
  },
  {
   "cell_type": "code",
   "execution_count": 2,
   "metadata": {},
   "outputs": [
    {
     "name": "stdout",
     "output_type": "stream",
     "text": [
      "5537376230\n"
     ]
    }
   ],
   "source": [
    "with open(\"numbers.txt\", \"r\") as f:\n",
    "    print(str(sum([int(line) for line in f.readlines()]))[:10])"
   ]
  },
  {
   "cell_type": "markdown",
   "metadata": {},
   "source": [
    "## Problem 20: Factorial digit sum\n",
    "\n",
    "$n!$  means $n \\times (n−1) \\times \\dots \\times 3 \\times 2 \\times 1$\n",
    "\n",
    "For example, $10! = 10 × 9 \\times \\dots \\times 3 \\times 2 \\times 1 = 3628800$,  \n",
    "and the sum of the digits in the number $10!$ is $3 + 6 + 2 + 8 + 8 + 0 + 0 = 27$.\n",
    "\n",
    "Find the sum of the digits in the number $100!$"
   ]
  },
  {
   "cell_type": "code",
   "execution_count": 17,
   "metadata": {},
   "outputs": [
    {
     "name": "stdout",
     "output_type": "stream",
     "text": [
      "648\n"
     ]
    }
   ],
   "source": [
    "import math\n",
    "\n",
    "hundred = math.factorial(100)\n",
    "# print(hundred)\n",
    "hundred = str(hundred)\n",
    "# print(hundred)\n",
    "\n",
    "total = 0\n",
    "for char in hundred:\n",
    "    total = total + int(char)\n",
    "print(total)"
   ]
  },
  {
   "cell_type": "code",
   "execution_count": 3,
   "metadata": {},
   "outputs": [
    {
     "name": "stdout",
     "output_type": "stream",
     "text": [
      "648\n"
     ]
    }
   ],
   "source": [
    "import math\n",
    "\n",
    "# We can take characters (digits) if we convert int to string\n",
    "digits = str(math.factorial(100))\n",
    "\n",
    "sum_digits = 0\n",
    "for digit in digits:\n",
    "    # digit is a string, therefore we need to convert it to an integer before adding it\n",
    "    sum_digits = sum_digits + int(digit)\n",
    "\n",
    "print(sum_digits)"
   ]
  },
  {
   "cell_type": "code",
   "execution_count": 4,
   "metadata": {},
   "outputs": [
    {
     "data": {
      "text/plain": [
       "648"
      ]
     },
     "execution_count": 4,
     "metadata": {},
     "output_type": "execute_result"
    }
   ],
   "source": [
    "sum([int(i) for i in str(math.factorial(100))])"
   ]
  },
  {
   "cell_type": "markdown",
   "metadata": {},
   "source": [
    "## Problem 22: Names sores\n",
    "\n",
    "Using [names.txt](./names.txt), a 46K text file containing over five-thousand first names, begin by sorting it into alphabetical order. Then working out the alphabetical value for each name, multiply this value by its alphabetical position in the list to obtain a name score.\n",
    "\n",
    "For example, when the list is sorted into alphabetical order, COLIN, which is worth 3 + 15 + 12 + 9 + 14 = 53, is the 938th name in the list. So, COLIN would obtain a score of 938 × 53 = 49714.\n",
    "\n",
    "What is the total of all the name scores in the file?"
   ]
  },
  {
   "cell_type": "markdown",
   "metadata": {},
   "source": [
    "References:\n",
    "- [`enumerate()`](https://docs.python.org/3.8/library/functions.html#enumerate)\n",
    "- [`string.ascii_uppercase`](https://docs.python.org/3.8/library/string.html#string.ascii_uppercase)\n",
    "- [`str.index()`](https://docs.python.org/3.8/library/stdtypes.html?highlight=find#str.index)\n",
    "- [`ord()`](https://docs.python.org/3.8/library/functions.html#ord)\n",
    "- [ASCII table](https://www.cs.cmu.edu/~pattis/15-1XX/common/handouts/ascii.html)\n",
    "- [List of Unicode characters](https://en.wikipedia.org/wiki/List_of_Unicode_characters)\n",
    "- [Relationship between ASCII and Unicode](https://stackoverflow.com/a/19212345)"
   ]
  },
  {
   "cell_type": "code",
   "execution_count": 5,
   "metadata": {},
   "outputs": [
    {
     "name": "stdout",
     "output_type": "stream",
     "text": [
      "871198282\n"
     ]
    }
   ],
   "source": [
    "import string\n",
    "\n",
    "def letter_score(name):\n",
    "    score = 0\n",
    "    for letter in name:\n",
    "        # Indices start from 0\n",
    "        # We use index() instead of find() because index() gives an error when it is not found, which is more helpful to us than -1\n",
    "        score = score + string.ascii_uppercase.index(letter) + 1\n",
    "        # Alternatively, using the ASCII table\n",
    "        # A = ord(\"A\")    # should be 65\n",
    "        # score = score + ord(letter) - A + 1\n",
    "    return score\n",
    "\n",
    "def name_score(names):\n",
    "    score = 0\n",
    "    for i, name in enumerate(names, start=1):  # Note the start=1\n",
    "        name_score = i * letter_score(name)\n",
    "        score = score + name_score\n",
    "    return score\n",
    "\n",
    "with open(\"names.txt\", \"r\") as f:\n",
    "    names = f.read().replace(\"\\\"\", \"\").split(\",\")\n",
    "    names.sort()\n",
    "    print(name_score(names))"
   ]
  },
  {
   "cell_type": "code",
   "execution_count": 6,
   "metadata": {},
   "outputs": [
    {
     "name": "stdout",
     "output_type": "stream",
     "text": [
      "871198282\n"
     ]
    }
   ],
   "source": [
    "letter_score2 = lambda name: sum([ord(c) - 64 for c in name])\n",
    "name_score2 = lambda names: sum([i * letter_score2(name) for i, name in enumerate(names, start=1)])\n",
    "\n",
    "with open(\"names.txt\", \"r\") as f:\n",
    "    names = sorted(f.read().replace(\"\\\"\", \"\").split(\",\"))\n",
    "    print(name_score2(names))"
   ]
  },
  {
   "cell_type": "markdown",
   "metadata": {},
   "source": [
    "## Problem 625: Gcd sum\n",
    "\n",
    "$G(N)=\\sum_{j=1}^{N}\\sum_{i=1}^{j} \\text{gcd}(i,j)$\n",
    "\n",
    "You are given: $G(10)=122$\n",
    "\n",
    "Find $G(1011)$. Give your answer modulo 998244353 "
   ]
  },
  {
   "cell_type": "code",
   "execution_count": 7,
   "metadata": {
    "jupyter": {
     "source_hidden": true
    }
   },
   "outputs": [
    {
     "data": {
      "text/plain": [
       "2528312"
      ]
     },
     "execution_count": 7,
     "metadata": {},
     "output_type": "execute_result"
    }
   ],
   "source": [
    "def G(n):\n",
    "    output = 0\n",
    "    for j in range(n):\n",
    "        for i in range(j):\n",
    "            output = output + math.gcd(i, j)\n",
    "    return output\n",
    "\n",
    "G(1011) % 998244353"
   ]
  },
  {
   "cell_type": "code",
   "execution_count": 8,
   "metadata": {
    "jupyter": {
     "source_hidden": true
    }
   },
   "outputs": [
    {
     "data": {
      "text/plain": [
       "2528312"
      ]
     },
     "execution_count": 8,
     "metadata": {},
     "output_type": "execute_result"
    }
   ],
   "source": [
    "G2 = lambda n: sum([math.gcd(i, j) for j in range(n) for i in range(j)])\n",
    "\n",
    "G2(1011) % 998244353"
   ]
  }
 ],
 "metadata": {
  "kernelspec": {
   "display_name": "Python 3",
   "language": "python",
   "name": "python3"
  },
  "language_info": {
   "codemirror_mode": {
    "name": "ipython",
    "version": 3
   },
   "file_extension": ".py",
   "mimetype": "text/x-python",
   "name": "python",
   "nbconvert_exporter": "python",
   "pygments_lexer": "ipython3",
   "version": "3.7.4"
  }
 },
 "nbformat": 4,
 "nbformat_minor": 4
}
