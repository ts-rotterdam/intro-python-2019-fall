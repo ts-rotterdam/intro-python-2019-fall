{
 "cells": [
  {
   "cell_type": "markdown",
   "metadata": {},
   "source": [
    "# Before building a search engine"
   ]
  },
  {
   "cell_type": "markdown",
   "metadata": {},
   "source": [
    "This notebook will introduce you to some concepts and tools in Python before we build a search engine. You will be needing these besides the things you have learned in the previous weeks to complete the exercise.\n",
    "\n",
    "- `namedtuple`\n",
    "- Keyword arguments\n",
    "- `sorted()`\n",
    "- `Counter`"
   ]
  },
  {
   "cell_type": "markdown",
   "metadata": {},
   "source": [
    "## Named tuples\n",
    "A tuple is a sequence of values separated by commas and surrounded by parentheses, and items inside can be accessed by its index, for example:"
   ]
  },
  {
   "cell_type": "code",
   "execution_count": 1,
   "metadata": {},
   "outputs": [
    {
     "name": "stdout",
     "output_type": "stream",
     "text": [
      "('Sparsity-certifying Graph Decompositions', ['Streinu, Ileana', 'Theran, Louis'], 2008)\n",
      "['Streinu, Ileana', 'Theran, Louis']\n"
     ]
    }
   ],
   "source": [
    "example_paper = (\"Sparsity-certifying Graph Decompositions\", [\"Streinu, Ileana\", \"Theran, Louis\"], 2008)\n",
    "print(example_paper)\n",
    "print(example_paper[1])"
   ]
  },
  {
   "cell_type": "markdown",
   "metadata": {},
   "source": [
    "However, it is not always easy to remember the position of a particular item in the tuple, and [named tuples](https://docs.python.org/3.8/library/collections.html#collections.namedtuple) solves that problem by making items of a tuple accessible by a name. Below we will define a new namedtuple type called `paper` with the names of the properties we want to use, and then convert the example above to the `paper` type."
   ]
  },
  {
   "cell_type": "code",
   "execution_count": 2,
   "metadata": {},
   "outputs": [
    {
     "name": "stdout",
     "output_type": "stream",
     "text": [
      "paper(title='Sparsity-certifying Graph Decompositions', authors=['Streinu, Ileana', 'Theran, Louis'], year=2008) \n",
      "\n",
      "Sparsity-certifying Graph Decompositions\n",
      "['Streinu, Ileana', 'Theran, Louis']\n",
      "2008\n"
     ]
    }
   ],
   "source": [
    "from collections import namedtuple\n",
    "\n",
    "# Define a namedtuple type named paper\n",
    "# with three fields: title, authors and year\n",
    "paper = namedtuple(\"paper\", [\"title\", \"authors\", \"year\"])\n",
    "\n",
    "# The asterisk(*) before example_paper\n",
    "# unpacks the items inside into individual arguments\n",
    "# https://stackoverflow.com/a/36908\n",
    "example_paper = paper(*example_paper)\n",
    "print(example_paper, \"\\n\")\n",
    "\n",
    "# Getting elements out of a named tuple\n",
    "print(example_paper.title)\n",
    "print(example_paper.authors)\n",
    "print(example_paper.year)"
   ]
  },
  {
   "cell_type": "markdown",
   "metadata": {},
   "source": [
    "## Keyword arguments\n",
    "\n",
    "When we covered functions, a function can have some mandatory named arguments, and we give arguments to a function by the order they are defined. These arguments are called positional arguments.\n",
    "\n",
    "Keyword arguments are another kind of arguments you can define and give to a function. These arguments require a default value, and therefore are optional when calling the function later. They are defined in the form of `key=value` after all the positional arguments.\n",
    "\n",
    "Instead of showing examples, I would recommend reading [this excellent page](https://treyhunner.com/2018/04/keyword-arguments-in-python/) (until the section **Where you see keyword arguments**).\n",
    "\n",
    "### Some more details\n",
    "Positional arguments are passed to a function as a `tuple`, while keyword arguments are passed as a `dict`. Therefore it is possible to define functions accepting any amount of positional and keyword arguments. [This Stack Overflow answer](https://stackoverflow.com/a/1419159) gives a few good examples if the above link doesn't explain it clear enonugh."
   ]
  },
  {
   "cell_type": "markdown",
   "metadata": {},
   "source": [
    "## `sorted()` and `lambda` functions\n",
    "Since we will be ordering results a lot, it is useful to know a bit more about the \"advanced\" features of [`sorted()`](https://docs.python.org/3/library/functions.html#sorted). [This page](https://docs.python.org/3/howto/sorting.html) (until **Ascending and Descending**) explains how sorting works, and below I will give some specific examples relevant to the exercise."
   ]
  },
  {
   "cell_type": "code",
   "execution_count": 12,
   "metadata": {},
   "outputs": [
    {
     "data": {
      "text/html": [
       "Top 5 NYT Best Sellers Nonfiction, 2019-10-27<ul><li>Blowout, Rachel Maddow</li><li>Talking to Strangers, Malcolm Gladwell</li><li>Witch Hunt, Gregg Jarrett</li><li>The United States of Trump, Bill O'Reilly</li><li>Educated, Tara Westover</li></ul>"
      ],
      "text/plain": [
       "<IPython.core.display.HTML object>"
      ]
     },
     "metadata": {},
     "output_type": "display_data"
    },
    {
     "data": {
      "text/html": [
       "Top 5 NYT Best Sellers Nonfiction, 2019-10-27 (Sorted by book name)<ul><li>Blowout, Rachel Maddow</li><li>Educated, Tara Westover</li><li>Talking to Strangers, Malcolm Gladwell</li><li>The United States of Trump, Bill O'Reilly</li><li>Witch Hunt, Gregg Jarrett</li></ul>"
      ],
      "text/plain": [
       "<IPython.core.display.HTML object>"
      ]
     },
     "metadata": {},
     "output_type": "display_data"
    },
    {
     "data": {
      "text/html": [
       "Top 5 NYT Best Sellers Nonfiction, 2019-10-27 (Sorted by Author name)<ul><li>The United States of Trump, Bill O'Reilly</li><li>Witch Hunt, Gregg Jarrett</li><li>Talking to Strangers, Malcolm Gladwell</li><li>Blowout, Rachel Maddow</li><li>Educated, Tara Westover</li></ul>"
      ],
      "text/plain": [
       "<IPython.core.display.HTML object>"
      ]
     },
     "metadata": {},
     "output_type": "display_data"
    }
   ],
   "source": [
    "# A list of New York Times Best Sellers Nonfiction, 2019-10-27\n",
    "books = [(\"Blowout\", \"Rachel Maddow\"),\n",
    "         (\"Talking to Strangers\", \"Malcolm Gladwell\"),\n",
    "         (\"Witch Hunt\", \"Gregg Jarrett\"),\n",
    "         (\"The United States of Trump\", \"Bill O'Reilly\"),\n",
    "         (\"Educated\", \"Tara Westover\")\n",
    "        ]\n",
    "\n",
    "from IPython.display import display, HTML\n",
    "\n",
    "def print_books(header, books):\n",
    "    out = [header, \"<ul>\"]\n",
    "    for title, author in books:\n",
    "        out.append(f\"<li>{title}, {author}</li>\")\n",
    "    out.append(\"</ul>\")\n",
    "    display(HTML(\"\".join(out)))\n",
    "\n",
    "header = \"Top 5 NYT Best Sellers Nonfiction, 2019-10-27\"\n",
    "print_books(header, books)\n",
    "print_books(f\"{header} (Sorted by book name)\", sorted(books))\n",
    "print_books(f\"{header} (Sorted by Author name)\", sorted(books, key=lambda b:b[1]))"
   ]
  },
  {
   "cell_type": "markdown",
   "metadata": {},
   "source": [
    "## Counter\n",
    "\n",
    "Imagine this problem: Given a bag containing some arbitrary amount of apples and bananas, count the number of them in the bag. For this, we can use a loop or something like this: `num_apples = len([n for n in bag if n == \"apple\"]` for each fruit, but this is quite cumbersome when there are more fruits to count. What if we don't know how many different kinds of fruits are in the bag?\n",
    "\n",
    "The [`Counter`](https://docs.python.org/3.8/library/collections.html#collections.Counter) class from the `collections` module gives you some convenient utilities to solve the above problem. You can call `Counter()` with an iterable object (e.g. list) and it will return a `dict` where the keys are the values and the values their respective counts."
   ]
  },
  {
   "cell_type": "code",
   "execution_count": 4,
   "metadata": {},
   "outputs": [
    {
     "name": "stdout",
     "output_type": "stream",
     "text": [
      "Counter({'apple': 3, 'banana': 2, 'orange': 1})\n",
      "[('apple', 3)]\n"
     ]
    }
   ],
   "source": [
    "from collections import Counter\n",
    "\n",
    "fruits = [\"apple\", \"apple\", \"banana\", \"orange\", \"banana\", \"apple\"]\n",
    "counts = Counter(fruits)\n",
    "print(counts)\n",
    "print(counts.most_common(1))\n"
   ]
  },
  {
   "cell_type": "markdown",
   "metadata": {},
   "source": [
    "Now that we have introduced the concepts, you should be prepared to build a search engine yourself. If there is anything unclear, don't be shy and ask on the Slack group!"
   ]
  }
 ],
 "metadata": {
  "kernelspec": {
   "display_name": "Python 3",
   "language": "python",
   "name": "python3"
  },
  "language_info": {
   "codemirror_mode": {
    "name": "ipython",
    "version": 3
   },
   "file_extension": ".py",
   "mimetype": "text/x-python",
   "name": "python",
   "nbconvert_exporter": "python",
   "pygments_lexer": "ipython3",
   "version": "3.7.4"
  }
 },
 "nbformat": 4,
 "nbformat_minor": 2
}
